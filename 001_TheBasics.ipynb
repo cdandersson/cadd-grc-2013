{
 "metadata": {
  "name": "001_TheBasics"
 },
 "nbformat": 3,
 "nbformat_minor": 0,
 "worksheets": [
  {
   "cells": [
    {
     "cell_type": "heading",
     "level": 3,
     "metadata": {},
     "source": [
      "What we will learn:\n",
      "- some basic features of RDKit<br><br>\n",
      "<a href=\"http://www.rdkit.org/\" target=_blank>RDKit</a>?<br>\n",
      "Open Source cheminformatics toolkit, started and maintained by Greg Landrum<br>"
     ]
    },
    {
     "cell_type": "code",
     "collapsed": false,
     "input": [
      "from rdkit import Chem\n",
      "from rdkit.Chem import Descriptors\n",
      "from rdkit.ML.Descriptors import MoleculeDescriptors\n",
      "import gzip\n",
      "from pylab import *"
     ],
     "language": "python",
     "metadata": {},
     "outputs": [],
     "prompt_number": 16
    },
    {
     "cell_type": "heading",
     "level": 4,
     "metadata": {},
     "source": [
      "What we will learn:<br>\n",
      "- Basis handling of SD-Files<br>\n",
      "- Descriptor Calculation<br>\n",
      "- Basic Matplotlib handling"
     ]
    },
    {
     "cell_type": "heading",
     "level": 1,
     "metadata": {},
     "source": [
      "Load the Gzipped SD-File"
     ]
    },
    {
     "cell_type": "code",
     "collapsed": false,
     "input": [
      "inF = \"./functionaldata.ready2model.sdf.gz.2class_hERGTL.CUT_10000nM.sdf.gz.removedSDtags.sdf.sdf.gz.descr.sdf.sdf.gz\"\n",
      "cpds = [x for x in  Chem.ForwardSDMolSupplier(gzip.open(inF)) if x is not None]"
     ],
     "language": "python",
     "metadata": {},
     "outputs": [],
     "prompt_number": 17
    },
    {
     "cell_type": "heading",
     "level": 4,
     "metadata": {},
     "source": [
      "Of course, non-zipped SD-Files can be loaded as well."
     ]
    },
    {
     "cell_type": "code",
     "collapsed": false,
     "input": [
      "#inF = \"../../DataSets/ChEMBL_20130228/functional/treshold10000nM/Patch.sdf\"\n",
      "#cpds = [x for x in  Chem.SDMolSupplier(inF) if x is not None]"
     ],
     "language": "python",
     "metadata": {},
     "outputs": [],
     "prompt_number": 18
    },
    {
     "cell_type": "heading",
     "level": 4,
     "metadata": {},
     "source": [
      "Do the Descriptor calculation."
     ]
    },
    {
     "cell_type": "code",
     "collapsed": false,
     "input": [
      "descriptor_name_list =[x[0] for x in Descriptors._descList]\n",
      "calculated_descriptors = MoleculeDescriptors.MolecularDescriptorCalculator(descriptor_name_list)"
     ],
     "language": "python",
     "metadata": {},
     "outputs": [],
     "prompt_number": 19
    },
    {
     "cell_type": "code",
     "collapsed": false,
     "input": [
      "for i in range(len(cpds)):\n",
      "    descrs = calculated_descriptors.CalcDescriptors(cpds[i])\n",
      "    for x in range(len(descrs)):\n",
      "        cpds[i].SetProp(str(descriptor_name_list[x]),str(descrs[x]))"
     ],
     "language": "python",
     "metadata": {},
     "outputs": [],
     "prompt_number": 20
    },
    {
     "cell_type": "code",
     "collapsed": false,
     "input": [
      "print descriptor_name_list[:3]"
     ],
     "language": "python",
     "metadata": {},
     "outputs": [
      {
       "output_type": "stream",
       "stream": "stdout",
       "text": [
        "['MolWt', 'HeavyAtomMolWt', 'ExactMolWt']\n"
       ]
      }
     ],
     "prompt_number": 21
    },
    {
     "cell_type": "code",
     "collapsed": false,
     "input": [
      "interesting_descriptors = descriptor_name_list[:3]"
     ],
     "language": "python",
     "metadata": {},
     "outputs": [],
     "prompt_number": 22
    },
    {
     "cell_type": "heading",
     "level": 4,
     "metadata": {},
     "source": [
      "I'm only interested in the molecular weight.<br>\n",
      "How would it distribute for my dataset?"
     ]
    },
    {
     "cell_type": "code",
     "collapsed": false,
     "input": [
      "molwt_list = []\n",
      "for cpd in cpds:\n",
      "    molwt_list.append(float(cpd.GetProp('MolWt')))"
     ],
     "language": "python",
     "metadata": {},
     "outputs": [],
     "prompt_number": 23
    },
    {
     "cell_type": "heading",
     "level": 4,
     "metadata": {},
     "source": [
      "The plotting will de done given <a href=\"http://matplotlib.org/\" target=_blank>matplotlib</a>"
     ]
    },
    {
     "cell_type": "heading",
     "level": 4,
     "metadata": {},
     "source": [
      "Matplotlib does the plotting job!"
     ]
    },
    {
     "cell_type": "code",
     "collapsed": false,
     "input": [
      "plt.hist(molwt_list)\n",
      "plt.show()"
     ],
     "language": "python",
     "metadata": {},
     "outputs": [
      {
       "output_type": "display_data",
       "png": "[encoded data removed]"
      }
     ],
     "prompt_number": 24
    },
    {
     "cell_type": "heading",
     "level": 3,
     "metadata": {},
     "source": [
      "Hey, Pat, we can also do boxplots!"
     ]
    },
    {
     "cell_type": "code",
     "collapsed": false,
     "input": [
      "figsize(3,6)\n",
      "plt.boxplot(molwt_list)\n",
      "plt.show()"
     ],
     "language": "python",
     "metadata": {},
     "outputs": [
      {
       "output_type": "display_data",
       "png": "[encoded data removed]"
      }
     ],
     "prompt_number": 25
    },
    {
     "cell_type": "code",
     "collapsed": false,
     "input": [
      "figsize(3,6)\n",
      "plt.boxplot(molwt_list,1)\n",
      "plt.show()"
     ],
     "language": "python",
     "metadata": {},
     "outputs": [
      {
       "output_type": "display_data",
       "png": "[encoded data removed]"
      }
     ],
     "prompt_number": 26
    },
    {
     "cell_type": "heading",
     "level": 4,
     "metadata": {},
     "source": [
      "Now let's save the SD-File with the calculated descriptors."
     ]
    },
    {
     "cell_type": "code",
     "collapsed": false,
     "input": [
      "outF = \"./uha.sdf\"\n",
      "cpds_out = Chem.SDWriter(outF)"
     ],
     "language": "python",
     "metadata": {},
     "outputs": [],
     "prompt_number": 27
    },
    {
     "cell_type": "code",
     "collapsed": false,
     "input": [
      "for cpd in cpds:\n",
      "    cpds_out.write(cpd)"
     ],
     "language": "python",
     "metadata": {},
     "outputs": [],
     "prompt_number": 28
    },
    {
     "cell_type": "code",
     "collapsed": false,
     "input": [
      "cpds_out.close()"
     ],
     "language": "python",
     "metadata": {},
     "outputs": [],
     "prompt_number": 29
    },
    {
     "cell_type": "heading",
     "level": 4,
     "metadata": {},
     "source": [
      "Of course, gzipped SD-file can be saved as well."
     ]
    },
    {
     "cell_type": "code",
     "collapsed": false,
     "input": [
      "gz = gzip.open('out.sdf.gz','w+')"
     ],
     "language": "python",
     "metadata": {},
     "outputs": [],
     "prompt_number": 30
    },
    {
     "cell_type": "code",
     "collapsed": false,
     "input": [
      "w = Chem.SDWriter(gz)"
     ],
     "language": "python",
     "metadata": {},
     "outputs": [],
     "prompt_number": 31
    },
    {
     "cell_type": "code",
     "collapsed": false,
     "input": [
      "for m in cpds: w.write(m)"
     ],
     "language": "python",
     "metadata": {},
     "outputs": [],
     "prompt_number": 32
    },
    {
     "cell_type": "code",
     "collapsed": false,
     "input": [
      "w.close()\n",
      "gz.close()"
     ],
     "language": "python",
     "metadata": {},
     "outputs": [],
     "prompt_number": 33
    },
    {
     "cell_type": "code",
     "collapsed": false,
     "input": [],
     "language": "python",
     "metadata": {},
     "outputs": []
    }
   ],
   "metadata": {}
  }
 ]
}
