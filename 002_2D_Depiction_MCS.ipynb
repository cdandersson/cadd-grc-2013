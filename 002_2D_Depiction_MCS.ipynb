{
 "metadata": {
  "name": "002_2D_Depiction_MCS"
 },
 "nbformat": 3,
 "nbformat_minor": 0,
 "worksheets": [
  {
   "cells": [
    {
     "cell_type": "heading",
     "level": 3,
     "metadata": {},
     "source": [
      "What we will learn:<br>\n",
      "- Processing of SMILEs strings<BR>\n",
      "- 2D depictions of molecules (single compound as well as several compounds)<BR>\n",
      "- maximum common substructure search (MCSS) <br>"
     ]
    },
    {
     "cell_type": "code",
     "collapsed": false,
     "input": [
      "from rdkit import Chem\n",
      "from rdkit.Chem import Draw\n",
      "from rdkit.Chem.Draw import IPythonConsole\n",
      "from rdkit.Chem import MCS"
     ],
     "language": "python",
     "metadata": {},
     "outputs": [],
     "prompt_number": 1
    },
    {
     "cell_type": "code",
     "collapsed": false,
     "input": [
      "single_smiles = \"c1ccncc1\"\n",
      "mol = Chem.MolFromSmiles(single_smiles)"
     ],
     "language": "python",
     "metadata": {},
     "outputs": [],
     "prompt_number": 2
    },
    {
     "cell_type": "code",
     "collapsed": false,
     "input": [
      "Draw.MolToImage(mol)"
     ],
     "language": "python",
     "metadata": {},
     "outputs": [
      {
       "output_type": "pyout",
       "png": "[encoded data removed]",
       "prompt_number": 3,
       "text": [
        "<Image.Image image mode=RGB size=300x300 at 0x44099E0>"
       ]
      }
     ],
     "prompt_number": 3
    },
    {
     "cell_type": "heading",
     "level": 4,
     "metadata": {},
     "source": [
      "A list of SMILES can be provided as well."
     ]
    },
    {
     "cell_type": "code",
     "collapsed": false,
     "input": [
      "smis = (\"O=C(NCc1cc(OC)c(O)cc1)CCCC/C=C/C(C)C\", \"CC(C)CCCCCC(=O)NCC1=CC(=C(C=C1)O)OC\", \"c1(C(=O)O)cc(OC)c(O)cc1\")\n",
      "mols = [Chem.MolFromSmiles(x) for x in smis]"
     ],
     "language": "python",
     "metadata": {},
     "outputs": [],
     "prompt_number": 4
    },
    {
     "cell_type": "code",
     "collapsed": false,
     "input": [
      "Draw.MolsToGridImage(mols)"
     ],
     "language": "python",
     "metadata": {},
     "outputs": [
      {
       "output_type": "pyout",
       "png": "[encoded data removed]",
       "prompt_number": 5,
       "text": [
        "<Image.Image image mode=RGB size=600x200 at 0x44EDD28>"
       ]
      }
     ],
     "prompt_number": 5
    },
    {
     "cell_type": "heading",
     "level": 4,
     "metadata": {},
     "source": [
      "Let's do a MCS within this small data set."
     ]
    },
    {
     "cell_type": "code",
     "collapsed": false,
     "input": [
      "mcs=MCS.FindMCS(mols)\n",
      "mcs"
     ],
     "language": "python",
     "metadata": {},
     "outputs": [
      {
       "output_type": "pyout",
       "prompt_number": 6,
       "text": [
        "MCSResult(numAtoms=10, numBonds=10, smarts='[#6]-[#6]:1:[#6]:[#6](:[#6](:[#6]:[#6]:1)-[#8])-[#8]-[#6]', completed=1)"
       ]
      }
     ],
     "prompt_number": 6
    },
    {
     "cell_type": "heading",
     "level": 4,
     "metadata": {},
     "source": [
      "The SMARTS pattern can be depicted as well."
     ]
    },
    {
     "cell_type": "code",
     "collapsed": false,
     "input": [
      "Chem.MolFromSmarts(mcs.smarts)"
     ],
     "language": "python",
     "metadata": {},
     "outputs": [
      {
       "output_type": "pyout",
       "png": "[encoded data removed]",
       "prompt_number": 7,
       "text": [
        "<rdkit.Chem.rdchem.Mol at 0x44ee688>"
       ]
      }
     ],
     "prompt_number": 7
    },
    {
     "cell_type": "heading",
     "level": 4,
     "metadata": {},
     "source": [
      "SD-Files can depicted as well.<BR>\n",
      "Of course, MCS can also be applied."
     ]
    },
    {
     "cell_type": "code",
     "collapsed": false,
     "input": [
      "inF = \"./Patch.sdf\"\n",
      "cpds = [x for x in  Chem.SDMolSupplier(inF) if x is not None]\n",
      "Draw.MolsToGridImage(cpds)"
     ],
     "language": "python",
     "metadata": {},
     "outputs": [
      {
       "output_type": "pyout",
       "png": "[encoded data removed]",
       "prompt_number": 8,
       "text": [
        "<Image.Image image mode=RGB size=600x600 at 0x42BA418>"
       ]
      }
     ],
     "prompt_number": 8
    },
    {
     "cell_type": "code",
     "collapsed": false,
     "input": [
      "mcs=MCS.FindMCS(cpds)\n",
      "mcs"
     ],
     "language": "python",
     "metadata": {},
     "outputs": [
      {
       "output_type": "pyout",
       "prompt_number": 9,
       "text": [
        "MCSResult(numAtoms=5, numBonds=4, smarts='[#6]-[#7]-[#6]-[#6]-[#6]', completed=1)"
       ]
      }
     ],
     "prompt_number": 9
    },
    {
     "cell_type": "code",
     "collapsed": false,
     "input": [
      "Chem.MolFromSmarts(mcs.smarts)"
     ],
     "language": "python",
     "metadata": {},
     "outputs": [
      {
       "output_type": "pyout",
       "png": "[encoded data removed]",
       "prompt_number": 10,
       "text": [
        "<rdkit.Chem.rdchem.Mol at 0x44eeab0>"
       ]
      }
     ],
     "prompt_number": 10
    },
    {
     "cell_type": "code",
     "collapsed": false,
     "input": [],
     "language": "python",
     "metadata": {},
     "outputs": []
    }
   ],
   "metadata": {}
  }
 ]
}
