{
 "metadata": {
  "name": "003_RandomForest_kappa_et_al"
 },
 "nbformat": 3,
 "nbformat_minor": 0,
 "worksheets": [
  {
   "cells": [
    {
     "cell_type": "heading",
     "level": 4,
     "metadata": {},
     "source": [
      "What we will learn:<br>\n",
      "- Train classification models using scikit-learn - link to the  <a href=\"http://scikit-learn.org/stable/user_guide.html\" target=_blank>great documentation</a><BR>\n",
      "- Calculation of the kappa value with <a href=\"https://github.com/yarikoptic/pystatsmodels\" target=_blank>pystatsmodels</a><br>\n"
     ]
    },
    {
     "cell_type": "heading",
     "level": 4,
     "metadata": {},
     "source": [
      "Data set used: Public (<a href=\"https://www.ebi.ac.uk/chembl/\" target=_blank>ChEMBL</a>) hERG data set.<BR>\n",
      "One publication is under review which provides the pre-processed data set and the source coude.<br>\n",
      "=> Interested? => <a mailto:\"paul.czodrowski@merckgroup.com\" target=_blank>paul.czodrowski@merckgroup.com</a>"
     ]
    },
    {
     "cell_type": "code",
     "collapsed": false,
     "input": [
      "from rdkit import Chem\n",
      "from rdkit.Chem import Descriptors\n",
      "from rdkit.ML.Descriptors import MoleculeDescriptors\n",
      "from sklearn.cross_validation import train_test_split\n",
      "from sklearn.ensemble import RandomForestClassifier\n",
      "from sklearn import metrics\n",
      "from sklearn.metrics import precision_score,recall_score\n",
      "from sklearn.metrics import roc_curve, auc\n",
      "from cohenskappa import cohens_kappa"
     ],
     "language": "python",
     "metadata": {},
     "outputs": [],
     "prompt_number": 1
    },
    {
     "cell_type": "code",
     "collapsed": false,
     "input": [
      "inF = \"./Patch2.sdf\"\n",
      "cpds = [x for x in  Chem.SDMolSupplier(inF) if x is not None]"
     ],
     "language": "python",
     "metadata": {},
     "outputs": [],
     "prompt_number": 2
    },
    {
     "cell_type": "heading",
     "level": 4,
     "metadata": {},
     "source": [
      "Let's use all available RDKit descriptors."
     ]
    },
    {
     "cell_type": "code",
     "collapsed": false,
     "input": [
      "descriptor_name_list =[x[0] for x in Descriptors._descList]"
     ],
     "language": "python",
     "metadata": {},
     "outputs": [],
     "prompt_number": 3
    },
    {
     "cell_type": "heading",
     "level": 4,
     "metadata": {},
     "source": [
      "If you do a \"print\" statement, you will see all available descriptors"
     ]
    },
    {
     "cell_type": "code",
     "collapsed": false,
     "input": [
      "#print descriptor_name_list"
     ],
     "language": "python",
     "metadata": {},
     "outputs": [],
     "prompt_number": 5
    },
    {
     "cell_type": "heading",
     "level": 4,
     "metadata": {},
     "source": [
      "Let's do a descriptor calculation.<BR>"
     ]
    },
    {
     "cell_type": "code",
     "collapsed": false,
     "input": [
      "property_list_list = []\n",
      "hERG_TL_list = []\n",
      "descriptors = []\n",
      "\n",
      "for D in Descriptors._descList:\n",
      "    if D[0] == 'MolecularFormula': continue\n",
      "    descriptors.append(D[0])   \n",
      "calculator = MoleculeDescriptors.MolecularDescriptorCalculator(descriptors)\n",
      "for sample in cpds:\n",
      "    use = True\n",
      "    try:\n",
      "            pattern = calculator.CalcDescriptors(sample)\n",
      "            \n",
      "    except e:\n",
      "            use = False\n",
      "            print 'Error computing descriptor %s for %s'%(D[0],sample)\n",
      "            \n",
      "    if use:\n",
      "        property_list_list.append(pattern)\n",
      "        hERG_TL_list.append(int(sample.GetProp(\"hERG_TL\")))"
     ],
     "language": "python",
     "metadata": {},
     "outputs": [],
     "prompt_number": 6
    },
    {
     "cell_type": "heading",
     "level": 4,
     "metadata": {},
     "source": [
      "The data is stored in numpy arrays:<br>\n",
      "one array for the x-data (descriptors)<BR>\n",
      "one array for the y-data (observables)"
     ]
    },
    {
     "cell_type": "code",
     "collapsed": false,
     "input": [
      "dataDescrs_array = np.asarray(property_list_list)\n",
      "dataActs_array   = np.array(hERG_TL_list)"
     ],
     "language": "python",
     "metadata": {},
     "outputs": [],
     "prompt_number": 7
    },
    {
     "cell_type": "heading",
     "level": 4,
     "metadata": {},
     "source": [
      "This is how the data looks like."
     ]
    },
    {
     "cell_type": "code",
     "collapsed": false,
     "input": [
      "print dataDescrs_array.shape\n",
      "print dataActs_array.shape"
     ],
     "language": "python",
     "metadata": {},
     "outputs": [
      {
       "output_type": "stream",
       "stream": "stdout",
       "text": [
        "(100, 188)\n",
        "(100,)\n"
       ]
      }
     ],
     "prompt_number": 8
    },
    {
     "cell_type": "heading",
     "level": 4,
     "metadata": {},
     "source": [
      "Scikit-learn provides a built-in functionality to split the data into test and train set. "
     ]
    },
    {
     "cell_type": "code",
     "collapsed": false,
     "input": [
      "X_train,X_test,y_train,y_test = train_test_split(dataDescrs_array,dataActs_array,test_size=.4,random_state=0)"
     ],
     "language": "python",
     "metadata": {},
     "outputs": [],
     "prompt_number": 9
    },
    {
     "cell_type": "heading",
     "level": 4,
     "metadata": {},
     "source": [
      "The actual machine learning is a matter of 2 lines of code."
     ]
    },
    {
     "cell_type": "code",
     "collapsed": false,
     "input": [
      "clf_RF     = RandomForestClassifier(compute_importances=True,n_estimators=100)\n",
      "clf_RF     = clf_RF.fit(X_train,y_train)"
     ],
     "language": "python",
     "metadata": {},
     "outputs": [],
     "prompt_number": 10
    },
    {
     "cell_type": "heading",
     "level": 4,
     "metadata": {},
     "source": [
      "The actual prediction of the test set is a one-liner."
     ]
    },
    {
     "cell_type": "code",
     "collapsed": false,
     "input": [
      "y_predict  = clf_RF.predict(X_test)"
     ],
     "language": "python",
     "metadata": {},
     "outputs": [],
     "prompt_number": 11
    },
    {
     "cell_type": "heading",
     "level": 4,
     "metadata": {},
     "source": [
      "Serveral figures of merit are built into scikit-learn as well."
     ]
    },
    {
     "cell_type": "code",
     "collapsed": false,
     "input": [
      "print \"confusion matrix\"\n",
      "print metrics.confusion_matrix(y_test,y_predict)\n",
      "accuracy      = clf_RF.score(X_test,y_test)\n",
      "precision     = precision_score(y_test,y_predict)\n",
      "recall        = recall_score(y_test,y_predict)\n",
      "probas_ = clf_RF.predict_proba(X_test)\n",
      "fpr, tpr, thresholds = roc_curve(y_test, probas_[:, 1])\n",
      "roc_auc       = auc(fpr, tpr)\n",
      "print \"accuracy  : \", round(accuracy,2)\n",
      "print \"precision : \", round(precision,2)\n",
      "print \"recall    : \", round(recall,2)\n",
      "print \"AUC       : \", round(roc_auc,2)"
     ],
     "language": "python",
     "metadata": {},
     "outputs": [
      {
       "output_type": "stream",
       "stream": "stdout",
       "text": [
        "confusion matrix\n",
        "[[18  2]\n",
        " [11  9]]\n",
        "accuracy  :  0.68\n",
        "precision :  0.82\n",
        "recall    :  0.45\n",
        "AUC       :  0.63\n"
       ]
      }
     ],
     "prompt_number": 12
    },
    {
     "cell_type": "heading",
     "level": 4,
     "metadata": {},
     "source": [
      "How does kappa look like?"
     ]
    },
    {
     "cell_type": "code",
     "collapsed": false,
     "input": [
      "kappas=cohens_kappa(metrics.confusion_matrix(y_test,y_predict))"
     ],
     "language": "python",
     "metadata": {},
     "outputs": [],
     "prompt_number": 13
    },
    {
     "cell_type": "code",
     "collapsed": false,
     "input": [
      "print kappas"
     ],
     "language": "python",
     "metadata": {},
     "outputs": [
      {
       "output_type": "stream",
       "stream": "stdout",
       "text": [
        "Simple Kappa Coefficient\n",
        "--------------------------------\n",
        "Kappa 0.3500\n",
        "ASE 0.1323\n",
        "  95% Lower Conf Limit 0.0908\n",
        "  95% Upper Conf Limit 0.6092\n",
        "\n",
        "Test of H0: Simple Kappa = 0\n",
        "\n",
        "ASE under H0 0.1412\n",
        "Z 2.4787\n",
        "One-sided Pr > Z 0.0066\n",
        "Two-sided Pr > |Z| 0.0132\n",
        "\n"
       ]
      }
     ],
     "prompt_number": 14
    },
    {
     "cell_type": "code",
     "collapsed": false,
     "input": [
      "print kappas['kappa'],\"plus_minus\",kappas['std_kappa']"
     ],
     "language": "python",
     "metadata": {},
     "outputs": [
      {
       "output_type": "stream",
       "stream": "stdout",
       "text": [
        "0.35 plus_minus 0.132269256632\n"
       ]
      }
     ],
     "prompt_number": 15
    },
    {
     "cell_type": "code",
     "collapsed": false,
     "input": [],
     "language": "python",
     "metadata": {},
     "outputs": []
    }
   ],
   "metadata": {}
  }
 ]
}
