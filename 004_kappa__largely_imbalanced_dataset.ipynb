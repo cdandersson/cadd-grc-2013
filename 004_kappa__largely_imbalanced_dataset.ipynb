{
 "metadata": {
  "name": "004_kappa__largely_imbalanced_dataset"
 },
 "nbformat": 3,
 "nbformat_minor": 0,
 "worksheets": [
  {
   "cells": [
    {
     "cell_type": "heading",
     "level": 3,
     "metadata": {},
     "source": [
      "What we will learn:<br>\n",
      "- Effect of balancing the data set<br>\n",
      "- Calculation of the kappa value with pystatsmodels"
     ]
    },
    {
     "cell_type": "code",
     "collapsed": false,
     "input": [
      "from rdkit import Chem\n",
      "from sklearn.cross_validation import train_test_split\n",
      "from sklearn.ensemble import RandomForestClassifier\n",
      "from sklearn import metrics\n",
      "from sklearn.metrics import precision_score,recall_score\n",
      "from sklearn.metrics import roc_curve, auc\n",
      "from cohenskappa import cohens_kappa\n",
      "import gzip\n",
      "from pylab import *"
     ],
     "language": "python",
     "metadata": {},
     "outputs": [],
     "prompt_number": 30
    },
    {
     "cell_type": "heading",
     "level": 4,
     "metadata": {},
     "source": [
      "The descriptors have been pre-calculated, but given the other iPython notebooks, everybody is enabled to re-run the descriptor calculation.<br>"
     ]
    },
    {
     "cell_type": "code",
     "collapsed": false,
     "input": [
      "inF_10mikroM = \"./functionaldata.ready2model.sdf.gz.2class_hERGTL.CUT_1000nM.sdf.gz.removedSDtags.sdf.sdf.gz.descr.sdf.sdf.gz\"\n",
      "cpds = [x for x in  Chem.ForwardSDMolSupplier(gzip.open(inF_10mikroM)) if x is not None]"
     ],
     "language": "python",
     "metadata": {},
     "outputs": [],
     "prompt_number": 31
    },
    {
     "cell_type": "heading",
     "level": 4,
     "metadata": {},
     "source": [
      "The descriptors will be stored in different lists, depending if they belong to an active or inactive compound."
     ]
    },
    {
     "cell_type": "code",
     "collapsed": false,
     "input": [
      "actives_hERG_TL_list = []\n",
      "inactives_hERG_TL_list = []\n",
      "actives_descriptors = []\n",
      "inactives_descriptors = []\n",
      "for cpd in cpds:\n",
      "    property_list = []\n",
      "    property_name_list = []\n",
      "    prop_name = cpd.GetPropNames()\n",
      "    for property in prop_name:\n",
      "        if property == 'hERG_TL':\n",
      "            if int(cpd.GetProp(property)) == 1:\n",
      "                actives_hERG_TL_list.append(1)\n",
      "                temp_list = []\n",
      "                for property in prop_name:\n",
      "                    if property not in ['hERG_TL','value']:\n",
      "                        temp_list.append(float(cpd.GetProp(property)))\n",
      "                actives_descriptors.append(temp_list)\n",
      "            else:\n",
      "                inactives_hERG_TL_list.append(0)\n",
      "                temp_list = []\n",
      "                for property in prop_name:\n",
      "                    if property not in ['hERG_TL','value']:\n",
      "                        temp_list.append(float(cpd.GetProp(property)))\n",
      "                inactives_descriptors.append(temp_list)"
     ],
     "language": "python",
     "metadata": {},
     "outputs": [],
     "prompt_number": 32
    },
    {
     "cell_type": "code",
     "collapsed": false,
     "input": [
      "complete_hERG_TL_list = actives_hERG_TL_list+inactives_hERG_TL_list\n",
      "complete_descriptors_list = actives_descriptors+inactives_descriptors"
     ],
     "language": "python",
     "metadata": {},
     "outputs": [],
     "prompt_number": 33
    },
    {
     "cell_type": "code",
     "collapsed": false,
     "input": [
      "print len(complete_hERG_TL_list)\n",
      "print len(complete_descriptors_list)"
     ],
     "language": "python",
     "metadata": {},
     "outputs": [
      {
       "output_type": "stream",
       "stream": "stdout",
       "text": [
        "694\n",
        "694\n"
       ]
      }
     ],
     "prompt_number": 34
    },
    {
     "cell_type": "code",
     "collapsed": false,
     "input": [
      "dataDescrs_array = np.asarray(complete_descriptors_list)\n",
      "dataActs_array   = np.array(complete_hERG_TL_list)"
     ],
     "language": "python",
     "metadata": {},
     "outputs": [],
     "prompt_number": 35
    },
    {
     "cell_type": "heading",
     "level": 4,
     "metadata": {},
     "source": [
      "What is the class distribution in this data set?"
     ]
    },
    {
     "cell_type": "raw",
     "metadata": {},
     "source": [
      "The console way"
     ]
    },
    {
     "cell_type": "code",
     "collapsed": false,
     "input": [
      "print len(actives_hERG_TL_list),len(inactives_hERG_TL_list)\n",
      "print len(actives_descriptors),len(inactives_descriptors)"
     ],
     "language": "python",
     "metadata": {},
     "outputs": [
      {
       "output_type": "stream",
       "stream": "stdout",
       "text": [
        "71 623\n",
        "71 623\n"
       ]
      }
     ],
     "prompt_number": 36
    },
    {
     "cell_type": "raw",
     "metadata": {},
     "source": [
      "The \"graphical\" way"
     ]
    },
    {
     "cell_type": "code",
     "collapsed": false,
     "input": [
      "acts_bins = np.bincount(complete_hERG_TL_list)\n",
      "figure(figsize=(5,5))\n",
      "pie(acts_bins,colors = ('g', 'r'),labels = ['class 0', 'class 1'],labeldistance=0.5)\n",
      "show()"
     ],
     "language": "python",
     "metadata": {},
     "outputs": [
      {
       "output_type": "display_data",
       "png": "[encoded data removed]"
      }
     ],
     "prompt_number": 37
    },
    {
     "cell_type": "code",
     "collapsed": false,
     "input": [
      "X_train,X_test,y_train,y_test = train_test_split(dataDescrs_array,dataActs_array,test_size=.4,random_state=0)"
     ],
     "language": "python",
     "metadata": {},
     "outputs": [],
     "prompt_number": 38
    },
    {
     "cell_type": "heading",
     "level": 4,
     "metadata": {},
     "source": [
      "Let's train a model."
     ]
    },
    {
     "cell_type": "code",
     "collapsed": false,
     "input": [
      "clf_RF     = RandomForestClassifier(compute_importances=True,n_estimators=100)\n",
      "clf_RF     = clf_RF.fit(X_train,y_train)"
     ],
     "language": "python",
     "metadata": {},
     "outputs": [],
     "prompt_number": 39
    },
    {
     "cell_type": "code",
     "collapsed": false,
     "input": [
      "y_predict  = clf_RF.predict(X_test)"
     ],
     "language": "python",
     "metadata": {},
     "outputs": [],
     "prompt_number": 40
    },
    {
     "cell_type": "heading",
     "level": 4,
     "metadata": {},
     "source": [
      "How does the confusion matrix look like?"
     ]
    },
    {
     "cell_type": "code",
     "collapsed": false,
     "input": [
      "print metrics.confusion_matrix(y_test,y_predict)"
     ],
     "language": "python",
     "metadata": {},
     "outputs": [
      {
       "output_type": "stream",
       "stream": "stdout",
       "text": [
        "[[243   7]\n",
        " [ 23   5]]\n"
       ]
      }
     ],
     "prompt_number": 41
    },
    {
     "cell_type": "code",
     "collapsed": false,
     "input": [
      "accuracy      = clf_RF.score(X_test,y_test)\n",
      "precision     = precision_score(y_test,y_predict)\n",
      "recall        = recall_score(y_test,y_predict)\n",
      "probas_ = clf_RF.predict_proba(X_test)\n",
      "fpr, tpr, thresholds = roc_curve(y_test, probas_[:, 1])\n",
      "roc_auc       = auc(fpr, tpr)\n",
      "print \"accuracy  : \", round(accuracy,2)\n",
      "print \"precision : \", round(precision,2)\n",
      "print \"recall    : \", round(recall,2)\n",
      "print \"AUC       : \", round(roc_auc,2)"
     ],
     "language": "python",
     "metadata": {},
     "outputs": [
      {
       "output_type": "stream",
       "stream": "stdout",
       "text": [
        "accuracy  :  0.89\n",
        "precision :  0.42\n",
        "recall    :  0.18\n",
        "AUC       :  0.85\n"
       ]
      }
     ],
     "prompt_number": 42
    },
    {
     "cell_type": "code",
     "collapsed": false,
     "input": [
      "kappas=cohens_kappa(metrics.confusion_matrix(y_test,y_predict))"
     ],
     "language": "python",
     "metadata": {},
     "outputs": [],
     "prompt_number": 43
    },
    {
     "cell_type": "code",
     "collapsed": false,
     "input": [
      "print kappas"
     ],
     "language": "python",
     "metadata": {},
     "outputs": [
      {
       "output_type": "stream",
       "stream": "stdout",
       "text": [
        "Simple Kappa Coefficient\n",
        "--------------------------------\n",
        "Kappa 0.2018\n",
        "ASE 0.0919\n",
        "  95% Lower Conf Limit 0.0216\n",
        "  95% Upper Conf Limit 0.3819\n",
        "\n",
        "Test of H0: Simple Kappa = 0\n",
        "\n",
        "ASE under H0 0.0543\n",
        "Z 3.7178\n",
        "One-sided Pr > Z 0.0001\n",
        "Two-sided Pr > |Z| 0.0002\n",
        "\n"
       ]
      }
     ],
     "prompt_number": 44
    },
    {
     "cell_type": "heading",
     "level": 4,
     "metadata": {},
     "source": [
      "Let's balance the data set.<br>\n",
      "For this exercise, we need to get rid of some inactive compounds.<br>\n",
      "This is done by a random sampling of the majority class."
     ]
    },
    {
     "cell_type": "code",
     "collapsed": false,
     "input": [
      "print len(actives_hERG_TL_list),len(inactives_hERG_TL_list)\n",
      "print len(actives_descriptors),len(inactives_descriptors)"
     ],
     "language": "python",
     "metadata": {},
     "outputs": [
      {
       "output_type": "stream",
       "stream": "stdout",
       "text": [
        "71 623\n",
        "71 623\n"
       ]
      }
     ],
     "prompt_number": 45
    },
    {
     "cell_type": "code",
     "collapsed": false,
     "input": [
      "import random"
     ],
     "language": "python",
     "metadata": {},
     "outputs": [],
     "prompt_number": 46
    },
    {
     "cell_type": "code",
     "collapsed": false,
     "input": [
      "inactives_descriptors_downsized = random.sample(inactives_descriptors,len(actives_descriptors))\n",
      "inactives_hERG_TL_list_downsized = [0]*len(actives_hERG_TL_list)"
     ],
     "language": "python",
     "metadata": {},
     "outputs": [],
     "prompt_number": 47
    },
    {
     "cell_type": "code",
     "collapsed": false,
     "input": [
      "acts_bins = np.bincount(inactives_hERG_TL_list_downsized+actives_hERG_TL_list) #np.bincount(hERG_TL_list)\n",
      "figure(figsize=(5,5))\n",
      "pie(acts_bins,colors = ('g', 'r'),labels = ['class 0', 'class 1'],labeldistance=0.5)\n",
      "show()"
     ],
     "language": "python",
     "metadata": {},
     "outputs": [
      {
       "output_type": "display_data",
       "png": "[encoded data removed]"
      }
     ],
     "prompt_number": 48
    },
    {
     "cell_type": "code",
     "collapsed": false,
     "input": [
      "new_dataDescrs_array = np.asarray(inactives_descriptors_downsized+actives_descriptors)\n",
      "new_dataActs_array   = np.array(inactives_hERG_TL_list_downsized+actives_hERG_TL_list)"
     ],
     "language": "python",
     "metadata": {},
     "outputs": [],
     "prompt_number": 49
    },
    {
     "cell_type": "code",
     "collapsed": false,
     "input": [
      "new_X_train,new_X_test,new_y_train,new_y_test = train_test_split(new_dataDescrs_array,new_dataActs_array,test_size=.4,random_state=0)"
     ],
     "language": "python",
     "metadata": {},
     "outputs": [],
     "prompt_number": 50
    },
    {
     "cell_type": "code",
     "collapsed": false,
     "input": [
      "clf_RF     = RandomForestClassifier(compute_importances=True,n_estimators=100)\n",
      "clf_RF     = clf_RF.fit(new_X_train,new_y_train)"
     ],
     "language": "python",
     "metadata": {},
     "outputs": [],
     "prompt_number": 51
    },
    {
     "cell_type": "code",
     "collapsed": false,
     "input": [
      "new_y_predict = clf_RF.predict(new_X_test)"
     ],
     "language": "python",
     "metadata": {},
     "outputs": [],
     "prompt_number": 52
    },
    {
     "cell_type": "code",
     "collapsed": false,
     "input": [
      "print metrics.confusion_matrix(y_test,y_predict)"
     ],
     "language": "python",
     "metadata": {},
     "outputs": [
      {
       "output_type": "stream",
       "stream": "stdout",
       "text": [
        "[[243   7]\n",
        " [ 23   5]]\n"
       ]
      }
     ],
     "prompt_number": 53
    },
    {
     "cell_type": "heading",
     "level": 4,
     "metadata": {},
     "source": [
      "This is the OLD model given the imbalanced data set."
     ]
    },
    {
     "cell_type": "code",
     "collapsed": false,
     "input": [
      "kappas=cohens_kappa(metrics.confusion_matrix(y_test,y_predict))\n",
      "print kappas"
     ],
     "language": "python",
     "metadata": {},
     "outputs": [
      {
       "output_type": "stream",
       "stream": "stdout",
       "text": [
        "Simple Kappa Coefficient\n",
        "--------------------------------\n",
        "Kappa 0.2018\n",
        "ASE 0.0919\n",
        "  95% Lower Conf Limit 0.0216\n",
        "  95% Upper Conf Limit 0.3819\n",
        "\n",
        "Test of H0: Simple Kappa = 0\n",
        "\n",
        "ASE under H0 0.0543\n",
        "Z 3.7178\n",
        "One-sided Pr > Z 0.0001\n",
        "Two-sided Pr > |Z| 0.0002\n",
        "\n"
       ]
      }
     ],
     "prompt_number": 56
    },
    {
     "cell_type": "heading",
     "level": 4,
     "metadata": {},
     "source": [
      "This is the NEW model given the balanced data set."
     ]
    },
    {
     "cell_type": "code",
     "collapsed": false,
     "input": [
      "print metrics.confusion_matrix(new_y_test,new_y_predict)"
     ],
     "language": "python",
     "metadata": {},
     "outputs": [
      {
       "output_type": "stream",
       "stream": "stdout",
       "text": [
        "[[21  7]\n",
        " [ 7 22]]\n"
       ]
      }
     ],
     "prompt_number": 58
    },
    {
     "cell_type": "code",
     "collapsed": false,
     "input": [
      "accuracy      = clf_RF.score(new_X_test,new_y_test)\n",
      "precision     = precision_score(new_y_test,new_y_predict)\n",
      "recall        = recall_score(new_y_test,new_y_predict)\n",
      "probas_ = clf_RF.predict_proba(new_X_test)\n",
      "fpr, tpr, thresholds = roc_curve(new_y_test, probas_[:, 1])\n",
      "roc_auc       = auc(fpr, tpr)\n",
      "print \"accuracy  : \", round(accuracy,2)\n",
      "print \"precision : \", round(precision,2)\n",
      "print \"recall    : \", round(recall,2)\n",
      "print \"AUC       : \", round(roc_auc,2)"
     ],
     "language": "python",
     "metadata": {},
     "outputs": [
      {
       "output_type": "stream",
       "stream": "stdout",
       "text": [
        "accuracy  :  0.75\n",
        "precision :  0.76\n",
        "recall    :  0.76\n",
        "AUC       :  0.86\n"
       ]
      }
     ],
     "prompt_number": 59
    },
    {
     "cell_type": "code",
     "collapsed": false,
     "input": [
      "kappas=cohens_kappa(metrics.confusion_matrix(new_y_test,new_y_predict))\n",
      "print kappas"
     ],
     "language": "python",
     "metadata": {},
     "outputs": [
      {
       "output_type": "stream",
       "stream": "stdout",
       "text": [
        "Simple Kappa Coefficient\n",
        "--------------------------------\n",
        "Kappa 0.5086\n",
        "ASE 0.1141\n",
        "  95% Lower Conf Limit 0.2851\n",
        "  95% Upper Conf Limit 0.7322\n",
        "\n",
        "Test of H0: Simple Kappa = 0\n",
        "\n",
        "ASE under H0 0.1325\n",
        "Z 3.8400\n",
        "One-sided Pr > Z 0.0001\n",
        "Two-sided Pr > |Z| 0.0001\n",
        "\n"
       ]
      }
     ],
     "prompt_number": 60
    },
    {
     "cell_type": "code",
     "collapsed": false,
     "input": [],
     "language": "python",
     "metadata": {},
     "outputs": []
    }
   ],
   "metadata": {}
  }
 ]
}
